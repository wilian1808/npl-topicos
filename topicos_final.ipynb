{
  "nbformat": 4,
  "nbformat_minor": 0,
  "metadata": {
    "colab": {
      "provenance": []
    },
    "kernelspec": {
      "name": "python3",
      "display_name": "Python 3"
    },
    "language_info": {
      "name": "python"
    },
    "accelerator": "GPU",
    "gpuClass": "standard"
  },
  "cells": [
    {
      "cell_type": "code",
      "source": [
        "from google.colab import drive  \n",
        "drive.mount('/content/drive')"
      ],
      "metadata": {
        "colab": {
          "base_uri": "https://localhost:8080/"
        },
        "id": "X-90WHC4REEj",
        "outputId": "a2c31873-a8ef-4ec7-c04e-87a441507dd5"
      },
      "execution_count": null,
      "outputs": [
        {
          "output_type": "stream",
          "name": "stdout",
          "text": [
            "Mounted at /content/drive\n"
          ]
        }
      ]
    },
    {
      "cell_type": "code",
      "execution_count": null,
      "metadata": {
        "colab": {
          "base_uri": "https://localhost:8080/"
        },
        "id": "6zfjvPmIyA97",
        "outputId": "db5ced16-a021-482f-991f-8ee935d53604"
      },
      "outputs": [
        {
          "output_type": "stream",
          "name": "stderr",
          "text": [
            "[nltk_data] Downloading package punkt to /root/nltk_data...\n",
            "[nltk_data]   Unzipping tokenizers/punkt.zip.\n",
            "[nltk_data] Downloading package omw-1.4 to /root/nltk_data...\n"
          ]
        }
      ],
      "source": [
        "#Importando librerias\n",
        "import random\n",
        "import json\n",
        "import pickle\n",
        "import numpy as np \n",
        "\n",
        "#Importar librerias necesarias para lematizar\n",
        "import nltk\n",
        "\n",
        "from nltk.stem import WordNetLemmatizer\n",
        "nltk.download('punkt')\n",
        "nltk.download('omw-1.4')\n",
        "#Importar librerias necesarias para la red neuronal\n",
        "from tensorflow.keras.models import Sequential\n",
        "from tensorflow.keras.layers import Dense, Activation, Dropout\n",
        "from tensorflow.keras.optimizers import SGD"
      ]
    },
    {
      "cell_type": "code",
      "execution_count": null,
      "metadata": {
        "id": "15VgfLYEyzkD"
      },
      "outputs": [],
      "source": [
        "#Definiendo la funcion de  lematizacion de raiz\n",
        "lemmatizer = WordNetLemmatizer()"
      ]
    },
    {
      "cell_type": "code",
      "execution_count": null,
      "metadata": {
        "id": "17kKOqmjy7rU"
      },
      "outputs": [],
      "source": [
        "#Lectura del archivo json para la bolsa de palabras\n",
        "intents = json.loads(open('/content/drive/MyDrive/topicos/QUECHUA.json').read())"
      ]
    },
    {
      "cell_type": "code",
      "execution_count": null,
      "metadata": {
        "id": "CzjWCTLXzHdl"
      },
      "outputs": [],
      "source": [
        "words = []\n",
        "classes = []\n",
        "documents = []\n",
        "ignore_letters = ['?','!','.',',']\n",
        "\n",
        "for intent in intents ['intents']:\n",
        "    for pattern in intent['patterns']:\n",
        "        word_list = nltk.word_tokenize(pattern)\n",
        "        words.extend(word_list)\n",
        "        documents.append((word_list,intent['tag']))\n",
        "        if  intent['tag'] not in classes:\n",
        "            classes.append(intent['tag'])\n"
      ]
    },
    {
      "cell_type": "code",
      "execution_count": null,
      "metadata": {
        "colab": {
          "base_uri": "https://localhost:8080/"
        },
        "id": "mjHtqPWFzKnw",
        "outputId": "fc540435-eb8d-4484-db36-2919481ac661"
      },
      "outputs": [
        {
          "output_type": "stream",
          "name": "stderr",
          "text": [
            "[nltk_data] Downloading package wordnet to /root/nltk_data...\n"
          ]
        }
      ],
      "source": [
        "#Eliminar duplicados y lematizar\n",
        "nltk.download('wordnet')\n",
        "words = [lemmatizer.lemmatize(word) for word in words if word not in ignore_letters]\n",
        "\n",
        "words = sorted(set(words))\n",
        "classes = sorted(set(classes))\n",
        "\n",
        "pickle.dump(words, open('words.pk1','wb'))\n",
        "pickle.dump(classes, open('classes.pk1','wb'))\n"
      ]
    },
    {
      "cell_type": "code",
      "execution_count": null,
      "metadata": {
        "id": "I_XSAwo44eHE"
      },
      "outputs": [],
      "source": [
        "#Creamos una bolsa de palabras\n",
        "training = []\n",
        "output_empty = [0]*len(classes)\n",
        "for document in documents:\n",
        "    bag = []\n",
        "    word_patterns = document[0]\n",
        "    word_patterns = [lemmatizer.lemmatize(word.lower()) for word in word_patterns]\n",
        "    for word in words:\n",
        "        bag.append(1) if word in word_patterns else bag.append(0)\n",
        "\n",
        "    output_row = list(output_empty)\n",
        "    output_row[classes.index(document[1])] = 1\n",
        "    training.append([bag, output_row])"
      ]
    },
    {
      "cell_type": "code",
      "execution_count": null,
      "metadata": {
        "id": "x2sDq3Zz-Ld7",
        "colab": {
          "base_uri": "https://localhost:8080/"
        },
        "outputId": "e3621712-4759-4a13-b8ef-36c3a2f00ef4"
      },
      "outputs": [
        {
          "output_type": "stream",
          "name": "stderr",
          "text": [
            "<ipython-input-8-040c47b20e04>:3: VisibleDeprecationWarning: Creating an ndarray from ragged nested sequences (which is a list-or-tuple of lists-or-tuples-or ndarrays with different lengths or shapes) is deprecated. If you meant to do this, you must specify 'dtype=object' when creating the ndarray.\n",
            "  training = np. array(training)\n"
          ]
        }
      ],
      "source": [
        "#Entrenando el modelo\n",
        "random.shuffle(training)\n",
        "training = np. array(training)\n",
        "\n",
        "#Definiendo valores de enternamiento\n",
        "train_x = list(training[:,0])\n",
        "train_y = list(training[:,1])\n"
      ]
    },
    {
      "cell_type": "code",
      "execution_count": null,
      "metadata": {
        "id": "XZJqgnnq-0AL",
        "colab": {
          "base_uri": "https://localhost:8080/"
        },
        "outputId": "5f974ff9-8ab8-4b51-9fef-6241dea861ac"
      },
      "outputs": [
        {
          "output_type": "stream",
          "name": "stdout",
          "text": [
            "Epoch 1/256\n"
          ]
        },
        {
          "output_type": "stream",
          "name": "stderr",
          "text": [
            "/usr/local/lib/python3.8/dist-packages/keras/optimizers/optimizer_v2/gradient_descent.py:108: UserWarning: The `lr` argument is deprecated, use `learning_rate` instead.\n",
            "  super(SGD, self).__init__(name, **kwargs)\n"
          ]
        },
        {
          "output_type": "stream",
          "name": "stdout",
          "text": [
            "27/27 [==============================] - 2s 3ms/step - loss: 2.7935 - accuracy: 0.0746\n",
            "Epoch 2/256\n",
            "27/27 [==============================] - 0s 3ms/step - loss: 2.7420 - accuracy: 0.0896\n",
            "Epoch 3/256\n",
            "27/27 [==============================] - 0s 3ms/step - loss: 2.7152 - accuracy: 0.1642\n",
            "Epoch 4/256\n",
            "27/27 [==============================] - 0s 3ms/step - loss: 2.6802 - accuracy: 0.1418\n",
            "Epoch 5/256\n",
            "27/27 [==============================] - 0s 3ms/step - loss: 2.7070 - accuracy: 0.1343\n",
            "Epoch 6/256\n",
            "27/27 [==============================] - 0s 3ms/step - loss: 2.6586 - accuracy: 0.1716\n",
            "Epoch 7/256\n",
            "27/27 [==============================] - 0s 3ms/step - loss: 2.5918 - accuracy: 0.1791\n",
            "Epoch 8/256\n",
            "27/27 [==============================] - 0s 3ms/step - loss: 2.6199 - accuracy: 0.1418\n",
            "Epoch 9/256\n",
            "27/27 [==============================] - 0s 3ms/step - loss: 2.5139 - accuracy: 0.2090\n",
            "Epoch 10/256\n",
            "27/27 [==============================] - 0s 3ms/step - loss: 2.5541 - accuracy: 0.1940\n",
            "Epoch 11/256\n",
            "27/27 [==============================] - 0s 3ms/step - loss: 2.5051 - accuracy: 0.2313\n",
            "Epoch 12/256\n",
            "27/27 [==============================] - 0s 3ms/step - loss: 2.4791 - accuracy: 0.2015\n",
            "Epoch 13/256\n",
            "27/27 [==============================] - 0s 3ms/step - loss: 2.3730 - accuracy: 0.2985\n",
            "Epoch 14/256\n",
            "27/27 [==============================] - 0s 3ms/step - loss: 2.3131 - accuracy: 0.2463\n",
            "Epoch 15/256\n",
            "27/27 [==============================] - 0s 3ms/step - loss: 2.2166 - accuracy: 0.2910\n",
            "Epoch 16/256\n",
            "27/27 [==============================] - 0s 3ms/step - loss: 2.1963 - accuracy: 0.2985\n",
            "Epoch 17/256\n",
            "27/27 [==============================] - 0s 3ms/step - loss: 2.1738 - accuracy: 0.3134\n",
            "Epoch 18/256\n",
            "27/27 [==============================] - 0s 3ms/step - loss: 2.1638 - accuracy: 0.2985\n",
            "Epoch 19/256\n",
            "27/27 [==============================] - 0s 3ms/step - loss: 2.1004 - accuracy: 0.2761\n",
            "Epoch 20/256\n",
            "27/27 [==============================] - 0s 3ms/step - loss: 2.1328 - accuracy: 0.3582\n",
            "Epoch 21/256\n",
            "27/27 [==============================] - 0s 3ms/step - loss: 1.9566 - accuracy: 0.3881\n",
            "Epoch 22/256\n",
            "27/27 [==============================] - 0s 3ms/step - loss: 1.8455 - accuracy: 0.3955\n",
            "Epoch 23/256\n",
            "27/27 [==============================] - 0s 3ms/step - loss: 1.8057 - accuracy: 0.4627\n",
            "Epoch 24/256\n",
            "27/27 [==============================] - 0s 3ms/step - loss: 1.8302 - accuracy: 0.4254\n",
            "Epoch 25/256\n",
            "27/27 [==============================] - 0s 3ms/step - loss: 1.7674 - accuracy: 0.4328\n",
            "Epoch 26/256\n",
            "27/27 [==============================] - 0s 3ms/step - loss: 1.7504 - accuracy: 0.4478\n",
            "Epoch 27/256\n",
            "27/27 [==============================] - 0s 3ms/step - loss: 1.6952 - accuracy: 0.4701\n",
            "Epoch 28/256\n",
            "27/27 [==============================] - 0s 3ms/step - loss: 1.6367 - accuracy: 0.5000\n",
            "Epoch 29/256\n",
            "27/27 [==============================] - 0s 3ms/step - loss: 1.6009 - accuracy: 0.4851\n",
            "Epoch 30/256\n",
            "27/27 [==============================] - 0s 3ms/step - loss: 1.5944 - accuracy: 0.4925\n",
            "Epoch 31/256\n",
            "27/27 [==============================] - 0s 3ms/step - loss: 1.5392 - accuracy: 0.5149\n",
            "Epoch 32/256\n",
            "27/27 [==============================] - 0s 3ms/step - loss: 1.4208 - accuracy: 0.5224\n",
            "Epoch 33/256\n",
            "27/27 [==============================] - 0s 3ms/step - loss: 1.5200 - accuracy: 0.5299\n",
            "Epoch 34/256\n",
            "27/27 [==============================] - 0s 3ms/step - loss: 1.4389 - accuracy: 0.5075\n",
            "Epoch 35/256\n",
            "27/27 [==============================] - 0s 3ms/step - loss: 1.4336 - accuracy: 0.5672\n",
            "Epoch 36/256\n",
            "27/27 [==============================] - 0s 3ms/step - loss: 1.4267 - accuracy: 0.5149\n",
            "Epoch 37/256\n",
            "27/27 [==============================] - 0s 3ms/step - loss: 1.2925 - accuracy: 0.6343\n",
            "Epoch 38/256\n",
            "27/27 [==============================] - 0s 3ms/step - loss: 1.2559 - accuracy: 0.6119\n",
            "Epoch 39/256\n",
            "27/27 [==============================] - 0s 3ms/step - loss: 1.3617 - accuracy: 0.5597\n",
            "Epoch 40/256\n",
            "27/27 [==============================] - 0s 3ms/step - loss: 1.1748 - accuracy: 0.6045\n",
            "Epoch 41/256\n",
            "27/27 [==============================] - 0s 3ms/step - loss: 1.1218 - accuracy: 0.6716\n",
            "Epoch 42/256\n",
            "27/27 [==============================] - 0s 3ms/step - loss: 1.3346 - accuracy: 0.5821\n",
            "Epoch 43/256\n",
            "27/27 [==============================] - 0s 4ms/step - loss: 1.2781 - accuracy: 0.6269\n",
            "Epoch 44/256\n",
            "27/27 [==============================] - 0s 4ms/step - loss: 1.2890 - accuracy: 0.5522\n",
            "Epoch 45/256\n",
            "27/27 [==============================] - 0s 4ms/step - loss: 1.0780 - accuracy: 0.6940\n",
            "Epoch 46/256\n",
            "27/27 [==============================] - 0s 4ms/step - loss: 1.1370 - accuracy: 0.6567\n",
            "Epoch 47/256\n",
            "27/27 [==============================] - 0s 3ms/step - loss: 1.0289 - accuracy: 0.6343\n",
            "Epoch 48/256\n",
            "27/27 [==============================] - 0s 4ms/step - loss: 0.9705 - accuracy: 0.6567\n",
            "Epoch 49/256\n",
            "27/27 [==============================] - 0s 4ms/step - loss: 0.9766 - accuracy: 0.6940\n",
            "Epoch 50/256\n",
            "27/27 [==============================] - 0s 4ms/step - loss: 1.1483 - accuracy: 0.6418\n",
            "Epoch 51/256\n",
            "27/27 [==============================] - 0s 4ms/step - loss: 1.0131 - accuracy: 0.6269\n",
            "Epoch 52/256\n",
            "27/27 [==============================] - 0s 4ms/step - loss: 0.9769 - accuracy: 0.6642\n",
            "Epoch 53/256\n",
            "27/27 [==============================] - 0s 4ms/step - loss: 0.9775 - accuracy: 0.6567\n",
            "Epoch 54/256\n",
            "27/27 [==============================] - 0s 5ms/step - loss: 1.0663 - accuracy: 0.6418\n",
            "Epoch 55/256\n",
            "27/27 [==============================] - 0s 5ms/step - loss: 1.1047 - accuracy: 0.6642\n",
            "Epoch 56/256\n",
            "27/27 [==============================] - 0s 4ms/step - loss: 0.9654 - accuracy: 0.6940\n",
            "Epoch 57/256\n",
            "27/27 [==============================] - 0s 5ms/step - loss: 0.9124 - accuracy: 0.7090\n",
            "Epoch 58/256\n",
            "27/27 [==============================] - 0s 4ms/step - loss: 0.9165 - accuracy: 0.6940\n",
            "Epoch 59/256\n",
            "27/27 [==============================] - 0s 4ms/step - loss: 0.9863 - accuracy: 0.6493\n",
            "Epoch 60/256\n",
            "27/27 [==============================] - 0s 4ms/step - loss: 0.8718 - accuracy: 0.7239\n",
            "Epoch 61/256\n",
            "27/27 [==============================] - 0s 4ms/step - loss: 0.9589 - accuracy: 0.6791\n",
            "Epoch 62/256\n",
            "27/27 [==============================] - 0s 4ms/step - loss: 0.8378 - accuracy: 0.7388\n",
            "Epoch 63/256\n",
            "27/27 [==============================] - 0s 4ms/step - loss: 0.9600 - accuracy: 0.6642\n",
            "Epoch 64/256\n",
            "27/27 [==============================] - 0s 4ms/step - loss: 0.8216 - accuracy: 0.7388\n",
            "Epoch 65/256\n",
            "27/27 [==============================] - 0s 3ms/step - loss: 0.8537 - accuracy: 0.7313\n",
            "Epoch 66/256\n",
            "27/27 [==============================] - 0s 4ms/step - loss: 0.8614 - accuracy: 0.7388\n",
            "Epoch 67/256\n",
            "27/27 [==============================] - 0s 3ms/step - loss: 0.8706 - accuracy: 0.7164\n",
            "Epoch 68/256\n",
            "27/27 [==============================] - 0s 3ms/step - loss: 0.9115 - accuracy: 0.6642\n",
            "Epoch 69/256\n",
            "27/27 [==============================] - 0s 4ms/step - loss: 0.8960 - accuracy: 0.7015\n",
            "Epoch 70/256\n",
            "27/27 [==============================] - 0s 3ms/step - loss: 0.8946 - accuracy: 0.7164\n",
            "Epoch 71/256\n",
            "27/27 [==============================] - 0s 3ms/step - loss: 0.8149 - accuracy: 0.7388\n",
            "Epoch 72/256\n",
            "27/27 [==============================] - 0s 4ms/step - loss: 0.8387 - accuracy: 0.7537\n",
            "Epoch 73/256\n",
            "27/27 [==============================] - 0s 4ms/step - loss: 0.7214 - accuracy: 0.7985\n",
            "Epoch 74/256\n",
            "27/27 [==============================] - 0s 4ms/step - loss: 0.7062 - accuracy: 0.7537\n",
            "Epoch 75/256\n",
            "27/27 [==============================] - 0s 3ms/step - loss: 0.8740 - accuracy: 0.6866\n",
            "Epoch 76/256\n",
            "27/27 [==============================] - 0s 3ms/step - loss: 0.8150 - accuracy: 0.7388\n",
            "Epoch 77/256\n",
            "27/27 [==============================] - 0s 4ms/step - loss: 0.8196 - accuracy: 0.7463\n",
            "Epoch 78/256\n",
            "27/27 [==============================] - 0s 3ms/step - loss: 0.9662 - accuracy: 0.6716\n",
            "Epoch 79/256\n",
            "27/27 [==============================] - 0s 3ms/step - loss: 0.8963 - accuracy: 0.6791\n",
            "Epoch 80/256\n",
            "27/27 [==============================] - 0s 3ms/step - loss: 0.8867 - accuracy: 0.7463\n",
            "Epoch 81/256\n",
            "27/27 [==============================] - 0s 3ms/step - loss: 0.8147 - accuracy: 0.7239\n",
            "Epoch 82/256\n",
            "27/27 [==============================] - 0s 3ms/step - loss: 0.7521 - accuracy: 0.7463\n",
            "Epoch 83/256\n",
            "27/27 [==============================] - 0s 3ms/step - loss: 0.7855 - accuracy: 0.7463\n",
            "Epoch 84/256\n",
            "27/27 [==============================] - 0s 3ms/step - loss: 0.7838 - accuracy: 0.7463\n",
            "Epoch 85/256\n",
            "27/27 [==============================] - 0s 3ms/step - loss: 0.7641 - accuracy: 0.7239\n",
            "Epoch 86/256\n",
            "27/27 [==============================] - 0s 3ms/step - loss: 0.8144 - accuracy: 0.7537\n",
            "Epoch 87/256\n",
            "27/27 [==============================] - 0s 3ms/step - loss: 0.6403 - accuracy: 0.7836\n",
            "Epoch 88/256\n",
            "27/27 [==============================] - 0s 3ms/step - loss: 0.7786 - accuracy: 0.7836\n",
            "Epoch 89/256\n",
            "27/27 [==============================] - 0s 3ms/step - loss: 0.7195 - accuracy: 0.7537\n",
            "Epoch 90/256\n",
            "27/27 [==============================] - 0s 3ms/step - loss: 0.6971 - accuracy: 0.7537\n",
            "Epoch 91/256\n",
            "27/27 [==============================] - 0s 3ms/step - loss: 0.7554 - accuracy: 0.7463\n",
            "Epoch 92/256\n",
            "27/27 [==============================] - 0s 3ms/step - loss: 0.7152 - accuracy: 0.7537\n",
            "Epoch 93/256\n",
            "27/27 [==============================] - 0s 3ms/step - loss: 0.6743 - accuracy: 0.7687\n",
            "Epoch 94/256\n",
            "27/27 [==============================] - 0s 3ms/step - loss: 0.7536 - accuracy: 0.7836\n",
            "Epoch 95/256\n",
            "27/27 [==============================] - 0s 3ms/step - loss: 0.7061 - accuracy: 0.7612\n",
            "Epoch 96/256\n",
            "27/27 [==============================] - 0s 3ms/step - loss: 0.7647 - accuracy: 0.7687\n",
            "Epoch 97/256\n",
            "27/27 [==============================] - 0s 3ms/step - loss: 0.7526 - accuracy: 0.7537\n",
            "Epoch 98/256\n",
            "27/27 [==============================] - 0s 3ms/step - loss: 0.5823 - accuracy: 0.7985\n",
            "Epoch 99/256\n",
            "27/27 [==============================] - 0s 3ms/step - loss: 0.6172 - accuracy: 0.7910\n",
            "Epoch 100/256\n",
            "27/27 [==============================] - 0s 3ms/step - loss: 0.7109 - accuracy: 0.7537\n",
            "Epoch 101/256\n",
            "27/27 [==============================] - 0s 3ms/step - loss: 0.5563 - accuracy: 0.8284\n",
            "Epoch 102/256\n",
            "27/27 [==============================] - 0s 3ms/step - loss: 0.7723 - accuracy: 0.7313\n",
            "Epoch 103/256\n",
            "27/27 [==============================] - 0s 3ms/step - loss: 0.5875 - accuracy: 0.8284\n",
            "Epoch 104/256\n",
            "27/27 [==============================] - 0s 3ms/step - loss: 0.7183 - accuracy: 0.7836\n",
            "Epoch 105/256\n",
            "27/27 [==============================] - 0s 3ms/step - loss: 0.7287 - accuracy: 0.7239\n",
            "Epoch 106/256\n",
            "27/27 [==============================] - 0s 3ms/step - loss: 0.7797 - accuracy: 0.7388\n",
            "Epoch 107/256\n",
            "27/27 [==============================] - 0s 3ms/step - loss: 0.6291 - accuracy: 0.7836\n",
            "Epoch 108/256\n",
            "27/27 [==============================] - 0s 3ms/step - loss: 0.6183 - accuracy: 0.7836\n",
            "Epoch 109/256\n",
            "27/27 [==============================] - 0s 3ms/step - loss: 0.5826 - accuracy: 0.7910\n",
            "Epoch 110/256\n",
            "27/27 [==============================] - 0s 3ms/step - loss: 0.5589 - accuracy: 0.8433\n",
            "Epoch 111/256\n",
            "27/27 [==============================] - 0s 3ms/step - loss: 0.6481 - accuracy: 0.7985\n",
            "Epoch 112/256\n",
            "27/27 [==============================] - 0s 3ms/step - loss: 0.6179 - accuracy: 0.7836\n",
            "Epoch 113/256\n",
            "27/27 [==============================] - 0s 3ms/step - loss: 0.5615 - accuracy: 0.8134\n",
            "Epoch 114/256\n",
            "27/27 [==============================] - 0s 3ms/step - loss: 0.7275 - accuracy: 0.7612\n",
            "Epoch 115/256\n",
            "27/27 [==============================] - 0s 3ms/step - loss: 0.5956 - accuracy: 0.8433\n",
            "Epoch 116/256\n",
            "27/27 [==============================] - 0s 3ms/step - loss: 0.6088 - accuracy: 0.7910\n",
            "Epoch 117/256\n",
            "27/27 [==============================] - 0s 3ms/step - loss: 0.6343 - accuracy: 0.7910\n",
            "Epoch 118/256\n",
            "27/27 [==============================] - 0s 3ms/step - loss: 0.8474 - accuracy: 0.7537\n",
            "Epoch 119/256\n",
            "27/27 [==============================] - 0s 3ms/step - loss: 0.6589 - accuracy: 0.8134\n",
            "Epoch 120/256\n",
            "27/27 [==============================] - 0s 3ms/step - loss: 0.5773 - accuracy: 0.7910\n",
            "Epoch 121/256\n",
            "27/27 [==============================] - 0s 3ms/step - loss: 0.5729 - accuracy: 0.8134\n",
            "Epoch 122/256\n",
            "27/27 [==============================] - 0s 3ms/step - loss: 0.6249 - accuracy: 0.7910\n",
            "Epoch 123/256\n",
            "27/27 [==============================] - 0s 3ms/step - loss: 0.6479 - accuracy: 0.7836\n",
            "Epoch 124/256\n",
            "27/27 [==============================] - 0s 3ms/step - loss: 0.6400 - accuracy: 0.7761\n",
            "Epoch 125/256\n",
            "27/27 [==============================] - 0s 3ms/step - loss: 0.6297 - accuracy: 0.7836\n",
            "Epoch 126/256\n",
            "27/27 [==============================] - 0s 3ms/step - loss: 0.5347 - accuracy: 0.8284\n",
            "Epoch 127/256\n",
            "27/27 [==============================] - 0s 3ms/step - loss: 0.6553 - accuracy: 0.7388\n",
            "Epoch 128/256\n",
            "27/27 [==============================] - 0s 3ms/step - loss: 0.5262 - accuracy: 0.8433\n",
            "Epoch 129/256\n",
            "27/27 [==============================] - 0s 3ms/step - loss: 0.6160 - accuracy: 0.7836\n",
            "Epoch 130/256\n",
            "27/27 [==============================] - 0s 3ms/step - loss: 0.4949 - accuracy: 0.8284\n",
            "Epoch 131/256\n",
            "27/27 [==============================] - 0s 3ms/step - loss: 0.5316 - accuracy: 0.8284\n",
            "Epoch 132/256\n",
            "27/27 [==============================] - 0s 3ms/step - loss: 0.6755 - accuracy: 0.7910\n",
            "Epoch 133/256\n",
            "27/27 [==============================] - 0s 3ms/step - loss: 0.5789 - accuracy: 0.8284\n",
            "Epoch 134/256\n",
            "27/27 [==============================] - 0s 3ms/step - loss: 0.5933 - accuracy: 0.7761\n",
            "Epoch 135/256\n",
            "27/27 [==============================] - 0s 3ms/step - loss: 0.6752 - accuracy: 0.7463\n",
            "Epoch 136/256\n",
            "27/27 [==============================] - 0s 3ms/step - loss: 0.5885 - accuracy: 0.8134\n",
            "Epoch 137/256\n",
            "27/27 [==============================] - 0s 3ms/step - loss: 0.5584 - accuracy: 0.7985\n",
            "Epoch 138/256\n",
            "27/27 [==============================] - 0s 3ms/step - loss: 0.6227 - accuracy: 0.8060\n",
            "Epoch 139/256\n",
            "27/27 [==============================] - 0s 3ms/step - loss: 0.5627 - accuracy: 0.7985\n",
            "Epoch 140/256\n",
            "27/27 [==============================] - 0s 3ms/step - loss: 0.5846 - accuracy: 0.8284\n",
            "Epoch 141/256\n",
            "27/27 [==============================] - 0s 3ms/step - loss: 0.7114 - accuracy: 0.7463\n",
            "Epoch 142/256\n",
            "27/27 [==============================] - 0s 3ms/step - loss: 0.6046 - accuracy: 0.7985\n",
            "Epoch 143/256\n",
            "27/27 [==============================] - 0s 3ms/step - loss: 0.4930 - accuracy: 0.8209\n",
            "Epoch 144/256\n",
            "27/27 [==============================] - 0s 3ms/step - loss: 0.5558 - accuracy: 0.7910\n",
            "Epoch 145/256\n",
            "27/27 [==============================] - 0s 3ms/step - loss: 0.5938 - accuracy: 0.8134\n",
            "Epoch 146/256\n",
            "27/27 [==============================] - 0s 3ms/step - loss: 0.6331 - accuracy: 0.8134\n",
            "Epoch 147/256\n",
            "27/27 [==============================] - 0s 3ms/step - loss: 0.6077 - accuracy: 0.8134\n",
            "Epoch 148/256\n",
            "27/27 [==============================] - 0s 3ms/step - loss: 0.6850 - accuracy: 0.8209\n",
            "Epoch 149/256\n",
            "27/27 [==============================] - 0s 3ms/step - loss: 0.6185 - accuracy: 0.8060\n",
            "Epoch 150/256\n",
            "27/27 [==============================] - 0s 3ms/step - loss: 0.5318 - accuracy: 0.8134\n",
            "Epoch 151/256\n",
            "27/27 [==============================] - 0s 3ms/step - loss: 0.4811 - accuracy: 0.8507\n",
            "Epoch 152/256\n",
            "27/27 [==============================] - 0s 3ms/step - loss: 0.6625 - accuracy: 0.7761\n",
            "Epoch 153/256\n",
            "27/27 [==============================] - 0s 3ms/step - loss: 0.6058 - accuracy: 0.8060\n",
            "Epoch 154/256\n",
            "27/27 [==============================] - 0s 3ms/step - loss: 0.5813 - accuracy: 0.8060\n",
            "Epoch 155/256\n",
            "27/27 [==============================] - 0s 3ms/step - loss: 0.6064 - accuracy: 0.7910\n",
            "Epoch 156/256\n",
            "27/27 [==============================] - 0s 3ms/step - loss: 0.4871 - accuracy: 0.8507\n",
            "Epoch 157/256\n",
            "27/27 [==============================] - 0s 3ms/step - loss: 0.5837 - accuracy: 0.7836\n",
            "Epoch 158/256\n",
            "27/27 [==============================] - 0s 3ms/step - loss: 0.5698 - accuracy: 0.8134\n",
            "Epoch 159/256\n",
            "27/27 [==============================] - 0s 3ms/step - loss: 0.4721 - accuracy: 0.8358\n",
            "Epoch 160/256\n",
            "27/27 [==============================] - 0s 3ms/step - loss: 0.6181 - accuracy: 0.8060\n",
            "Epoch 161/256\n",
            "27/27 [==============================] - 0s 3ms/step - loss: 0.7906 - accuracy: 0.7537\n",
            "Epoch 162/256\n",
            "27/27 [==============================] - 0s 3ms/step - loss: 0.5075 - accuracy: 0.8209\n",
            "Epoch 163/256\n",
            "27/27 [==============================] - 0s 3ms/step - loss: 0.6021 - accuracy: 0.7612\n",
            "Epoch 164/256\n",
            "27/27 [==============================] - 0s 3ms/step - loss: 0.6197 - accuracy: 0.8134\n",
            "Epoch 165/256\n",
            "27/27 [==============================] - 0s 3ms/step - loss: 0.5415 - accuracy: 0.7910\n",
            "Epoch 166/256\n",
            "27/27 [==============================] - 0s 3ms/step - loss: 0.5945 - accuracy: 0.7761\n",
            "Epoch 167/256\n",
            "27/27 [==============================] - 0s 3ms/step - loss: 0.5524 - accuracy: 0.7985\n",
            "Epoch 168/256\n",
            "27/27 [==============================] - 0s 3ms/step - loss: 0.5563 - accuracy: 0.7910\n",
            "Epoch 169/256\n",
            "27/27 [==============================] - 0s 3ms/step - loss: 0.4897 - accuracy: 0.8358\n",
            "Epoch 170/256\n",
            "27/27 [==============================] - 0s 3ms/step - loss: 0.7017 - accuracy: 0.7313\n",
            "Epoch 171/256\n",
            "27/27 [==============================] - 0s 3ms/step - loss: 0.5925 - accuracy: 0.8284\n",
            "Epoch 172/256\n",
            "27/27 [==============================] - 0s 3ms/step - loss: 0.5735 - accuracy: 0.7985\n",
            "Epoch 173/256\n",
            "27/27 [==============================] - 0s 3ms/step - loss: 0.6883 - accuracy: 0.7612\n",
            "Epoch 174/256\n",
            "27/27 [==============================] - 0s 3ms/step - loss: 0.6365 - accuracy: 0.7910\n",
            "Epoch 175/256\n",
            "27/27 [==============================] - 0s 3ms/step - loss: 0.6224 - accuracy: 0.8209\n",
            "Epoch 176/256\n",
            "27/27 [==============================] - 0s 3ms/step - loss: 0.5985 - accuracy: 0.8060\n",
            "Epoch 177/256\n",
            "27/27 [==============================] - 0s 3ms/step - loss: 0.4944 - accuracy: 0.8731\n",
            "Epoch 178/256\n",
            "27/27 [==============================] - 0s 3ms/step - loss: 0.5083 - accuracy: 0.8284\n",
            "Epoch 179/256\n",
            "27/27 [==============================] - 0s 3ms/step - loss: 0.5609 - accuracy: 0.8358\n",
            "Epoch 180/256\n",
            "27/27 [==============================] - 0s 3ms/step - loss: 0.5841 - accuracy: 0.8134\n",
            "Epoch 181/256\n",
            "27/27 [==============================] - 0s 3ms/step - loss: 0.4548 - accuracy: 0.8433\n",
            "Epoch 182/256\n",
            "27/27 [==============================] - 0s 3ms/step - loss: 0.6020 - accuracy: 0.8134\n",
            "Epoch 183/256\n",
            "27/27 [==============================] - 0s 3ms/step - loss: 0.4785 - accuracy: 0.8060\n",
            "Epoch 184/256\n",
            "27/27 [==============================] - 0s 3ms/step - loss: 0.4880 - accuracy: 0.8284\n",
            "Epoch 185/256\n",
            "27/27 [==============================] - 0s 3ms/step - loss: 0.5822 - accuracy: 0.7836\n",
            "Epoch 186/256\n",
            "27/27 [==============================] - 0s 3ms/step - loss: 0.5175 - accuracy: 0.8284\n",
            "Epoch 187/256\n",
            "27/27 [==============================] - 0s 3ms/step - loss: 0.5195 - accuracy: 0.8433\n",
            "Epoch 188/256\n",
            "27/27 [==============================] - 0s 3ms/step - loss: 0.5290 - accuracy: 0.8507\n",
            "Epoch 189/256\n",
            "27/27 [==============================] - 0s 3ms/step - loss: 0.5580 - accuracy: 0.8134\n",
            "Epoch 190/256\n",
            "27/27 [==============================] - 0s 3ms/step - loss: 0.5817 - accuracy: 0.7985\n",
            "Epoch 191/256\n",
            "27/27 [==============================] - 0s 3ms/step - loss: 0.4569 - accuracy: 0.8657\n",
            "Epoch 192/256\n",
            "27/27 [==============================] - 0s 3ms/step - loss: 0.6237 - accuracy: 0.8134\n",
            "Epoch 193/256\n",
            "27/27 [==============================] - 0s 3ms/step - loss: 0.5467 - accuracy: 0.7985\n",
            "Epoch 194/256\n",
            "27/27 [==============================] - 0s 3ms/step - loss: 0.5779 - accuracy: 0.7910\n",
            "Epoch 195/256\n",
            "27/27 [==============================] - 0s 3ms/step - loss: 0.4586 - accuracy: 0.8507\n",
            "Epoch 196/256\n",
            "27/27 [==============================] - 0s 3ms/step - loss: 0.5964 - accuracy: 0.8284\n",
            "Epoch 197/256\n",
            "27/27 [==============================] - 0s 3ms/step - loss: 0.6408 - accuracy: 0.8060\n",
            "Epoch 198/256\n",
            "27/27 [==============================] - 0s 3ms/step - loss: 0.6264 - accuracy: 0.7985\n",
            "Epoch 199/256\n",
            "27/27 [==============================] - 0s 3ms/step - loss: 0.6370 - accuracy: 0.7687\n",
            "Epoch 200/256\n",
            "27/27 [==============================] - 0s 3ms/step - loss: 0.5388 - accuracy: 0.7836\n",
            "Epoch 201/256\n",
            "27/27 [==============================] - 0s 3ms/step - loss: 0.4611 - accuracy: 0.8507\n",
            "Epoch 202/256\n",
            "27/27 [==============================] - 0s 3ms/step - loss: 0.6140 - accuracy: 0.7761\n",
            "Epoch 203/256\n",
            "27/27 [==============================] - 0s 3ms/step - loss: 0.5268 - accuracy: 0.8358\n",
            "Epoch 204/256\n",
            "27/27 [==============================] - 0s 3ms/step - loss: 0.5076 - accuracy: 0.8209\n",
            "Epoch 205/256\n",
            "27/27 [==============================] - 0s 3ms/step - loss: 0.5373 - accuracy: 0.8358\n",
            "Epoch 206/256\n",
            "27/27 [==============================] - 0s 3ms/step - loss: 0.5820 - accuracy: 0.8209\n",
            "Epoch 207/256\n",
            "27/27 [==============================] - 0s 3ms/step - loss: 0.5457 - accuracy: 0.8358\n",
            "Epoch 208/256\n",
            "27/27 [==============================] - 0s 3ms/step - loss: 0.5476 - accuracy: 0.8358\n",
            "Epoch 209/256\n",
            "27/27 [==============================] - 0s 3ms/step - loss: 0.5389 - accuracy: 0.8209\n",
            "Epoch 210/256\n",
            "27/27 [==============================] - 0s 3ms/step - loss: 0.5392 - accuracy: 0.8433\n",
            "Epoch 211/256\n",
            "27/27 [==============================] - 0s 3ms/step - loss: 0.5392 - accuracy: 0.7985\n",
            "Epoch 212/256\n",
            "27/27 [==============================] - 0s 3ms/step - loss: 0.5042 - accuracy: 0.8657\n",
            "Epoch 213/256\n",
            "27/27 [==============================] - 0s 3ms/step - loss: 0.5334 - accuracy: 0.8358\n",
            "Epoch 214/256\n",
            "27/27 [==============================] - 0s 3ms/step - loss: 0.5537 - accuracy: 0.8507\n",
            "Epoch 215/256\n",
            "27/27 [==============================] - 0s 3ms/step - loss: 0.6121 - accuracy: 0.8060\n",
            "Epoch 216/256\n",
            "27/27 [==============================] - 0s 3ms/step - loss: 0.5560 - accuracy: 0.7985\n",
            "Epoch 217/256\n",
            "27/27 [==============================] - 0s 3ms/step - loss: 0.4957 - accuracy: 0.8433\n",
            "Epoch 218/256\n",
            "27/27 [==============================] - 0s 3ms/step - loss: 0.5629 - accuracy: 0.8284\n",
            "Epoch 219/256\n",
            "27/27 [==============================] - 0s 3ms/step - loss: 0.6071 - accuracy: 0.8284\n",
            "Epoch 220/256\n",
            "27/27 [==============================] - 0s 3ms/step - loss: 0.5039 - accuracy: 0.8284\n",
            "Epoch 221/256\n",
            "27/27 [==============================] - 0s 3ms/step - loss: 0.5846 - accuracy: 0.8060\n",
            "Epoch 222/256\n",
            "27/27 [==============================] - 0s 3ms/step - loss: 0.5799 - accuracy: 0.8284\n",
            "Epoch 223/256\n",
            "27/27 [==============================] - 0s 3ms/step - loss: 0.5881 - accuracy: 0.8060\n",
            "Epoch 224/256\n",
            "27/27 [==============================] - 0s 3ms/step - loss: 0.5086 - accuracy: 0.8507\n",
            "Epoch 225/256\n",
            "27/27 [==============================] - 0s 3ms/step - loss: 0.5171 - accuracy: 0.8433\n",
            "Epoch 226/256\n",
            "27/27 [==============================] - 0s 3ms/step - loss: 0.5681 - accuracy: 0.8060\n",
            "Epoch 227/256\n",
            "27/27 [==============================] - 0s 3ms/step - loss: 0.6401 - accuracy: 0.7985\n",
            "Epoch 228/256\n",
            "27/27 [==============================] - 0s 3ms/step - loss: 0.6877 - accuracy: 0.7836\n",
            "Epoch 229/256\n",
            "27/27 [==============================] - 0s 3ms/step - loss: 0.5184 - accuracy: 0.8060\n",
            "Epoch 230/256\n",
            "27/27 [==============================] - 0s 3ms/step - loss: 0.5581 - accuracy: 0.7836\n",
            "Epoch 231/256\n",
            "27/27 [==============================] - 0s 3ms/step - loss: 0.6126 - accuracy: 0.7836\n",
            "Epoch 232/256\n",
            "27/27 [==============================] - 0s 3ms/step - loss: 0.4462 - accuracy: 0.8582\n",
            "Epoch 233/256\n",
            "27/27 [==============================] - 0s 3ms/step - loss: 0.5385 - accuracy: 0.8134\n",
            "Epoch 234/256\n",
            "27/27 [==============================] - 0s 3ms/step - loss: 0.4852 - accuracy: 0.8507\n",
            "Epoch 235/256\n",
            "27/27 [==============================] - 0s 3ms/step - loss: 0.4922 - accuracy: 0.8284\n",
            "Epoch 236/256\n",
            "27/27 [==============================] - 0s 3ms/step - loss: 0.5667 - accuracy: 0.8284\n",
            "Epoch 237/256\n",
            "27/27 [==============================] - 0s 3ms/step - loss: 0.5351 - accuracy: 0.8582\n",
            "Epoch 238/256\n",
            "27/27 [==============================] - 0s 3ms/step - loss: 0.6046 - accuracy: 0.8284\n",
            "Epoch 239/256\n",
            "27/27 [==============================] - 0s 3ms/step - loss: 0.5728 - accuracy: 0.8060\n",
            "Epoch 240/256\n",
            "27/27 [==============================] - 0s 3ms/step - loss: 0.5257 - accuracy: 0.8134\n",
            "Epoch 241/256\n",
            "27/27 [==============================] - 0s 3ms/step - loss: 0.6030 - accuracy: 0.8209\n",
            "Epoch 242/256\n",
            "27/27 [==============================] - 0s 3ms/step - loss: 0.5359 - accuracy: 0.8209\n",
            "Epoch 243/256\n",
            "27/27 [==============================] - 0s 3ms/step - loss: 0.4679 - accuracy: 0.8582\n",
            "Epoch 244/256\n",
            "27/27 [==============================] - 0s 3ms/step - loss: 0.5727 - accuracy: 0.8134\n",
            "Epoch 245/256\n",
            "27/27 [==============================] - 0s 3ms/step - loss: 0.5860 - accuracy: 0.8134\n",
            "Epoch 246/256\n",
            "27/27 [==============================] - 0s 3ms/step - loss: 0.5622 - accuracy: 0.8433\n",
            "Epoch 247/256\n",
            "27/27 [==============================] - 0s 3ms/step - loss: 0.5774 - accuracy: 0.7985\n",
            "Epoch 248/256\n",
            "27/27 [==============================] - 0s 4ms/step - loss: 0.5897 - accuracy: 0.7910\n",
            "Epoch 249/256\n",
            "27/27 [==============================] - 0s 3ms/step - loss: 0.5546 - accuracy: 0.8209\n",
            "Epoch 250/256\n",
            "27/27 [==============================] - 0s 3ms/step - loss: 0.4488 - accuracy: 0.8433\n",
            "Epoch 251/256\n",
            "27/27 [==============================] - 0s 3ms/step - loss: 0.5597 - accuracy: 0.8209\n",
            "Epoch 252/256\n",
            "27/27 [==============================] - 0s 3ms/step - loss: 0.5718 - accuracy: 0.8209\n",
            "Epoch 253/256\n",
            "27/27 [==============================] - 0s 3ms/step - loss: 0.4723 - accuracy: 0.8507\n",
            "Epoch 254/256\n",
            "27/27 [==============================] - 0s 3ms/step - loss: 0.4418 - accuracy: 0.8582\n",
            "Epoch 255/256\n",
            "27/27 [==============================] - 0s 3ms/step - loss: 0.5324 - accuracy: 0.8358\n",
            "Epoch 256/256\n",
            "27/27 [==============================] - 0s 3ms/step - loss: 0.5377 - accuracy: 0.8433\n",
            "hecho\n"
          ]
        }
      ],
      "source": [
        "#Creando una red neural\n",
        "\n",
        "model = Sequential()\n",
        "model.add(Dense(64,input_shape=(len(train_x[0]),),activation = 'relu'))\n",
        "model.add(Dropout(0.5))\n",
        "model.add(Dense(32, activation = 'relu'))\n",
        "model.add(Dropout(0.5))\n",
        "model.add(Dense(len(train_y[0]),activation = 'softmax'))\n",
        "\n",
        "sgd = SGD(lr=0.01, decay= 1e-6,momentum = 0.9, nesterov = True)\n",
        "\n",
        "#Defininendo la compilacion y la parte que se entrenará\n",
        "model.compile(loss = 'categorical_crossentropy', optimizer=sgd, metrics=['accuracy'])\n",
        "model.fit(np.array(train_x),np.array(train_y),epochs=256, batch_size =5)\n",
        "model.save('chatbot_model.model')\n",
        "print('hecho')"
      ]
    },
    {
      "cell_type": "code",
      "source": [
        "model.save('/content/drive/MyDrive/topicos/chatbot_model.h5')"
      ],
      "metadata": {
        "id": "WIF8K3xzIkeq"
      },
      "execution_count": null,
      "outputs": []
    },
    {
      "cell_type": "code",
      "execution_count": null,
      "metadata": {
        "id": "ZD54OJ5VEAYn"
      },
      "outputs": [],
      "source": [
        "#Importar librerias para el modelo de chatbot\n",
        "import random\n",
        "import json\n",
        "import pickle\n",
        "import numpy as np\n",
        "import nltk\n",
        "from nltk.stem import WordNetLemmatizer\n",
        "from tensorflow.keras.models import load_model"
      ]
    },
    {
      "cell_type": "code",
      "execution_count": null,
      "metadata": {
        "id": "BbPkoszNEI_5"
      },
      "outputs": [],
      "source": [
        "lemmatizer = WordNetLemmatizer()\n",
        "intents = json.loads(open('/content/drive/MyDrive/topicos/QUECHUA.json').read())\n",
        "\n",
        "#Cargando archivos de forma binaria\n",
        "words = pickle.load(open('words.pk1','rb'))\n",
        "classes = pickle.load(open('classes.pk1','rb'))\n",
        "\n",
        "#Cargamos el modelo\n",
        "model = load_model('chatbot_model.model')\n",
        " "
      ]
    },
    {
      "cell_type": "code",
      "execution_count": null,
      "metadata": {
        "id": "thu9--hSEfJk"
      },
      "outputs": [],
      "source": [
        "#Funcion para limpiar oraciones\n",
        "def clean_up_sentences(sentece):\n",
        "    sentece_words = nltk.word_tokenize(sentece)\n",
        "    sentece_words = [lemmatizer.lemmatize(word) for word in sentece_words]\n",
        "    return sentece_words\n",
        "\n",
        "def bag_of_words(sentece):\n",
        "    sentece_words = clean_up_sentences(sentece)\n",
        "    bag = [0]* len(words)\n",
        "    for w in sentece_words:\n",
        "        for i, word in enumerate (words):\n",
        "            if word == w:\n",
        "                bag[i] = 1\n",
        "    return np.array(bag)"
      ]
    },
    {
      "cell_type": "code",
      "execution_count": null,
      "metadata": {
        "id": "O-tDct_WE8Mm"
      },
      "outputs": [],
      "source": [
        "#Funcion para predecir respuesta\n",
        "def predict_class(sentece):\n",
        "    bow = bag_of_words(sentece)\n",
        "    res = model.predict(np.array([bow]))[0]\n",
        "    ERROR_THRESHOLD = 0.25\n",
        "    result = [[i,r] for i, r in enumerate(res) if r > ERROR_THRESHOLD ]\n",
        "\n",
        "    result.sort(key =lambda x: x[1],reverse= True)\n",
        "    return_list=[]\n",
        "    for r in result:\n",
        "        return_list.append({'intent':classes[r[0]],'probability':str(r[1])})\n",
        "    return return_list"
      ]
    },
    {
      "cell_type": "markdown",
      "source": [
        "**Uso del chatbot**"
      ],
      "metadata": {
        "id": "-UgnphIBVy8G"
      }
    },
    {
      "cell_type": "code",
      "execution_count": null,
      "metadata": {
        "colab": {
          "base_uri": "https://localhost:8080/"
        },
        "id": "l7ov3znqD6YH",
        "outputId": "ead11024-a5e0-45d4-bdbc-ce55d6f4159d"
      },
      "outputs": [
        {
          "name": "stdout",
          "output_type": "stream",
          "text": [
            "Comienza a conversar con el bot\n",
            "hola\n",
            "1/1 [==============================] - 0s 16ms/step\n",
            "Hola :)\n",
            "hola\n",
            "1/1 [==============================] - 0s 13ms/step\n",
            "Hola! kusikuy riqsirikuyk(Hola! un gusto conocerte)\n",
            "como estas\n",
            "1/1 [==============================] - 0s 20ms/step\n",
            "kusikuywan kamachikusqaykita rurasaq, ichaqa qam imaynallataq tarikunki? (Feliz de estar a tu disposición,  ¿como te encuentras tú?)\n",
            "estoy triste\n",
            "1/1 [==============================] - 0s 31ms/step\n",
            " imapis kanman ñuqa qanwan kachkasaq(Si necesitas apoyo puedes contar conmigo)\n",
            "salir\n"
          ]
        }
      ],
      "source": [
        "#Funcion de respuesta e interfaz del bot\n",
        "import pandas as pd\n",
        "def get_response(intent_list,intent_json):\n",
        "    tag = intent_list[0]['intent']\n",
        "    list_of_intents = intent_json['intents']\n",
        "    for i in  list_of_intents:\n",
        "        if i['tag'] == tag:\n",
        "            result =random.choice(i['responses'])\n",
        "            break\n",
        "    return result\n",
        "\n",
        "print(\"Comienza a conversar con el bot\")\n",
        "acum = []\n",
        "acum2 = []\n",
        "contar = 0\n",
        "while True:\n",
        "\n",
        "    message = input(\"\")\n",
        "    if message == 'salir':\n",
        "      break\n",
        "    ints = predict_class(message)\n",
        "    res = get_response(ints,intents)\n",
        "    print(res)\n",
        "    contar = contar + 1\n",
        " \n",
        "    acum = acum +[message]\n",
        "    \n",
        "#Se crea un registro de todo lo hablado\n",
        "data = {'mensaje': acum}\n",
        "# df1 = pd.DataFrame(data, columns = ['mensaje'])\n",
        "#df1.to_csv('example.csv')\n",
        "\n"
      ]
    },
    {
      "cell_type": "code",
      "source": [
        "sentence = ', '.join(data['mensaje'])\n",
        "sentence"
      ],
      "metadata": {
        "colab": {
          "base_uri": "https://localhost:8080/",
          "height": 35
        },
        "id": "Qi7-FouiUY7E",
        "outputId": "0fb0d799-93b8-4ade-b33e-b7e07ffb18bc"
      },
      "execution_count": null,
      "outputs": [
        {
          "output_type": "execute_result",
          "data": {
            "text/plain": [
              "'hola, hola, como estas, estoy triste'"
            ],
            "application/vnd.google.colaboratory.intrinsic+json": {
              "type": "string"
            }
          },
          "metadata": {},
          "execution_count": 76
        }
      ]
    },
    {
      "cell_type": "code",
      "source": [
        "from textblob import TextBlob"
      ],
      "metadata": {
        "id": "6HnlV3yuYhN1"
      },
      "execution_count": null,
      "outputs": []
    },
    {
      "cell_type": "code",
      "source": [],
      "metadata": {
        "id": "_o99tzQNcPPW"
      },
      "execution_count": null,
      "outputs": []
    },
    {
      "cell_type": "code",
      "source": [
        "def get_sentiment (polarity):\n",
        "  if polarity < -0.2:\n",
        "    return 'negativo'\n",
        "  elif polarity > 0.2:\n",
        "    return 'positivo'\n",
        "  else:\n",
        "    return 'neutro'"
      ],
      "metadata": {
        "id": "p-XqfAnv3mUU"
      },
      "execution_count": null,
      "outputs": []
    },
    {
      "cell_type": "code",
      "source": [
        "res = TextBlob(sentence).translate(from_lang='es', to='en').sentiment\n",
        "tmp = get_sentiment(res.polarity)\n",
        "print(sentence, ': ', res.polarity, ' => ', tmp)"
      ],
      "metadata": {
        "colab": {
          "base_uri": "https://localhost:8080/"
        },
        "id": "atb9TIOUsg_-",
        "outputId": "b6e76ecc-86cd-43a1-e4a1-ebbb97a4b4a3"
      },
      "execution_count": null,
      "outputs": [
        {
          "output_type": "stream",
          "name": "stdout",
          "text": [
            "hola, hola, como estas, estoy triste :  -0.5  =>  negativo\n"
          ]
        }
      ]
    },
    {
      "cell_type": "code",
      "source": [
        "for i in range(len(data['mensaje'])):\n",
        "  aux = TextBlob(data['mensaje'][i]).translate(from_lang='es', to='en').sentiment\n",
        "  tmp = get_sentiment(aux.polarity)\n",
        "  print(data['mensaje'][i], ': ', aux.polarity, ' => ', tmp)"
      ],
      "metadata": {
        "colab": {
          "base_uri": "https://localhost:8080/"
        },
        "id": "u6togZtC0FKb",
        "outputId": "62224870-9d30-4f45-f933-f3015ea93e99"
      },
      "execution_count": null,
      "outputs": [
        {
          "output_type": "stream",
          "name": "stdout",
          "text": [
            "hola :  0.0  =>  neutro\n",
            "hola :  0.0  =>  neutro\n",
            "como estas :  0.0  =>  neutro\n",
            "estoy triste :  -0.5  =>  negativo\n"
          ]
        }
      ]
    }
  ]
}